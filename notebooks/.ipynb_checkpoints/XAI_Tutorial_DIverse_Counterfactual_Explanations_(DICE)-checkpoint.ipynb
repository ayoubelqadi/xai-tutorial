{
  "nbformat": 4,
  "nbformat_minor": 0,
  "metadata": {
    "colab": {
      "name": "XAI Tutorial: DIverse Counterfactual Explanations (DICE).ipynb",
      "provenance": [],
      "toc_visible": true
    },
    "kernelspec": {
      "name": "python3",
      "display_name": "Python 3"
    },
    "language_info": {
      "name": "python"
    }
  },
  "cells": [
    {
      "cell_type": "markdown",
      "metadata": {
        "id": "zzzhZ308vknS"
      },
      "source": [
        "# DIverse Counterfactual Explanations (DICE)"
      ]
    },
    {
      "cell_type": "markdown",
      "metadata": {
        "id": "QKc271XcwrbW"
      },
      "source": [
        "In this tutorial, you will learn how to implement a specific type of post-hoc explanations: counterfactual explanations. But what do counterfactual explanations mean?. This kind of explanations is intended to show how the model works by creating hypothetical examples  with a prediction with respect to the initial studied instance (e.g., a consumer). In order to do so, we are going to focus on the application of DiCE(original article: Mothilal et al.[[1](https://arxiv.org/pdf/1905.07697.pdf)]) using the framework developped by Mothilal, Sharma and Tan https://github.com/interpretml/DiCE.\n",
        "\n"
      ]
    },
    {
      "cell_type": "markdown",
      "metadata": {
        "id": "pwSCM_eTzMAV"
      },
      "source": [
        "## How DiCE generate counterfactual explanations?"
      ]
    },
    {
      "cell_type": "markdown",
      "metadata": {
        "id": "jVCQT3eszW5d"
      },
      "source": [
        "The main idea is to generate a set of k counterfactual examples $\\{c_1, c_2, ..., c_k\\}$ such the decision of the model $f$ given an instance $x$ changes. However, we have to take into account that generating counterfactual examples with a high number of features that have changed is not the ideal approach (Diversity). In the other hand we need to consider counterfactual examples that are close to the original instance $x$ (Proximity) otherwise the explanations will not be useful. \n",
        "\n",
        "Diversity via Determinantal Point Process:\n",
        "\n",
        "\\begin{gather}\n",
        "dpp\\_diversity  = det(K) \n",
        "\\end{gather}\n",
        "where $K_{i,j} = \\frac{1}{1+dist(c_i,c_j)} $ and $dist(c_i,c_j)$ is a distanc metric.\n",
        "\n",
        "Proximity:\n",
        "\\begin{gather}\n",
        "Proximity  := -\\frac{1}{k} \\sum_{i=1}^{k} dist(c_i, x) \n",
        "\\end{gather}\n",
        "\n",
        "Beyond these main constraints, DiCE allows us to implement constraints that are related to \"real world\" problems (e.g., an upper bound for some variables)\n",
        "\n",
        "\n",
        "Based on these definitions DiCE considers the next loss function to be optimized.\n",
        "\n",
        "\\begin{gather}\n",
        "C(x)  = arg\\;min_{c_1, c_2, ..., c_k} \\frac{1}{k}\\sum_{i=1}^{k} yloss(f(c_i), y) + \\frac{\\lambda_1}{k} \\sum_{i=1}^{k} dist(c_i, x) \\\\ - \\lambda_2 dpp\\_diversity(c_1, c_2, ..., c_k)\n",
        "\\end{gather}\n",
        "\n",
        "where $yloss()$ is a function that measures the distance between $f(c_i)$ and the desired outcome $y$. Both $\\lambda_1$ and $\\lambda_2$ are hyperparameters that balance the three parts of the loss function."
      ]
    },
    {
      "cell_type": "markdown",
      "metadata": {
        "id": "acR6xaSY8Yc0"
      },
      "source": [
        "## Use Case: Credit Scoring"
      ]
    },
    {
      "cell_type": "markdown",
      "metadata": {
        "id": "BgrOrQQC9NGy"
      },
      "source": [
        "Now we understand how to generate counterfactual explanations, let's focus on a familiar use case in which counterfactual examples are really interesting: credit scoring.\n",
        "\n",
        "Credit Scoring refers to algorithms used to assess the credit worthiness of a person or, more generally, an entity (company, person, etc.).\n",
        "\n",
        "Why are we interested in applying DiCE to the machine learning based credit scoring algorithms? Credit scoring algorithms are used to estimate the probability of not repaying a credit (probability of default). In other words, they are used to approve or deny credit. For example, if one asks for a credit or a loan in the bank, one would like to know why it is refused, but also what do you have to do to improve your economy in order to in the future have a loan application approved. This is why such explanations are relevant.\n",
        "\n",
        "The use case is organized as follows:\n",
        "1. We load the pre-processed data and analyze it.\n",
        "2. We compare two different tree-based models used for the Credit Scoring : XGBoost  developed by Chen et al. [[2](https://arxiv.org/abs/1603.02754)] and Random Forest developed by Breiman [[3](https://doi.org/10.1023/A:1010933404324)].\n",
        "3. We apply DiCE to generate counterfactual explanations (https://github.com/interpretml/DiCE\n",
        ").\n"
      ]
    },
    {
      "cell_type": "markdown",
      "metadata": {
        "id": "YL3LJhEG_LqC"
      },
      "source": [
        "### Loading and processing the original data\n",
        "\n",
        "We are going to use a dataset provided by a ML competition hosted by Zindi (https://zindi.africa/competitions/data-science-nigeria-challenge-1-loan-default-prediction)"
      ]
    },
    {
      "cell_type": "code",
      "metadata": {
        "id": "dh9RmgzFzLQ7"
      },
      "source": [
        "#Set up for plotting results\n",
        "import seaborn as sns\n",
        "sns.set_style('darkgrid')"
      ],
      "execution_count": null,
      "outputs": []
    },
    {
      "cell_type": "code",
      "metadata": {
        "colab": {
          "base_uri": "https://localhost:8080/"
        },
        "id": "RyRh8K8E_P02",
        "outputId": "db20130d-c928-424a-ccbc-4441203974c9"
      },
      "source": [
        "#Clone the github repository that contains all the data and the functions used to clean and prepare the data\n",
        "! git clone https://github.com/ayoubelqadi/Loan-Default-Prediction.git"
      ],
      "execution_count": null,
      "outputs": [
        {
          "output_type": "stream",
          "text": [
            "Cloning into 'Loan-Default-Prediction'...\n",
            "remote: Enumerating objects: 69, done.\u001b[K\n",
            "remote: Counting objects: 100% (69/69), done.\u001b[K\n",
            "remote: Compressing objects: 100% (53/53), done.\u001b[K\n",
            "remote: Total 69 (delta 15), reused 35 (delta 7), pack-reused 0\u001b[K\n",
            "Unpacking objects: 100% (69/69), done.\n"
          ],
          "name": "stdout"
        }
      ]
    },
    {
      "cell_type": "code",
      "metadata": {
        "id": "vdpRXJc4_RHq"
      },
      "source": [
        "#Loaded pandas, numpy and matplotlib.\n",
        "#The code demands the user to chose between one hot encoding and delete categorical variables.\n",
        "%run /content/Loan-Default-Prediction/code/data_processing.py"
      ],
      "execution_count": null,
      "outputs": []
    },
    {
      "cell_type": "markdown",
      "metadata": {
        "id": "pYBTYHYM_VTN"
      },
      "source": [
        "**Created variables in the workspace: data_processing.py**\n",
        "\n",
        "*DataFrames:*\n",
        "1. train_perf: Original dataframe with information about loans performance, it contains the information about the loan demanded by the client.\n",
        "2. train_prevloan: Contains the customer historic loans.\n",
        "3. train_demographics: Contains the demographic data of the customer.\n",
        "4. demographics: Contains cleaned  demographic information.\n",
        "5. prevloans: Cleaned information about previous loans.\n",
        "6. perf: Cleaned data on loan information.\n",
        "7. final_data: Contains data used for predicting default. Results of merging the 4, 5, 6 tables using the customer as key.\n",
        "\n"
      ]
    },
    {
      "cell_type": "markdown",
      "metadata": {
        "id": "31VDkilZ_dRK"
      },
      "source": [
        "The features used for building the model are as follows:\n",
        "\n",
        "\n",
        "- *loannumber*: Number of loans demanded previously by the consumer (considering the current demand).\n",
        "- *loanamount*: Amount of the loan.\n",
        "- *totaldue*: Amount to return by the consumer.\n",
        "- *termdays*: The length of time it will take for a loan to be completely paid off.\n",
        "- *good_bad_flag*: Target variable representing whether the consumer has repaid the loan or not.\n",
        "- *interest*: Amount the consumer has to pay in interest.\n",
        "- *interest_rate*: Loan interest rate.\n",
        "- *age*: Age.\n",
        "- *bank_account_type*: The kind of bank account the client has.\n",
        "- *longitude_gps*: Longitude localization.\n",
        "- *latitude_gps*: Latitude localization.\n",
        "- *bank_name_clients*: Name of the bank.\n",
        "- *employment_status_clients*: Employment status of the applicant.\n",
        "- *loanamount_mean*: Mean of previous loans.\n",
        "- *totaldue_mean*: Mean amounts due on previous loans. \n",
        "- *termdays_mean*: Mean term days on previous loans.\n",
        "- *interest_mean*: Mean interest of previous loans.\n",
        "- *interest_rate_mean*: Mean interest rate of previous loans.\n",
        "- *diff_firstrepaiddate_firstduedate_mean*: Average delay in the first payment of the loan -divided by 365- of previous loans.\n",
        "- *diff_closeddate_creationdate_mean*: Mean difference between the date a previous loan was closed and the day the loan was created.\n",
        "- *repaid_dayofweek_mean*: Mean weekday on which previous loans  were repaid (0: Monday ... 6: Sunday);\n",
        "- *due_dayofweek_mean*: Mean weekday on which previous loans were to be repaid.\n",
        "\n",
        "\n"
      ]
    },
    {
      "cell_type": "markdown",
      "metadata": {
        "id": "qegqXiCr_lMf"
      },
      "source": [
        "### Taking a first look at the data\n",
        "\n",
        "The goal is to predict whether a customer will pay back the loan.(https://zindi.africa/competitions/data-science-nigeria-challenge-1-loan-default-prediction). In this case the target variable is the variable **good_bad_flag**. We are going to set **good_bad_flag** to 1 if it is a bad loan (non repaid loan).\n",
        "Let's check how many \"bad loan applications\" we have in the dataset:"
      ]
    },
    {
      "cell_type": "code",
      "metadata": {
        "id": "yCL5Q2hj_cNr"
      },
      "source": [
        "X = final_data.copy()\n",
        "#Redefine target\n",
        "X['good_bad_flag'] = X['good_bad_flag'].apply(lambda x: 1 if x==0 else 0)"
      ],
      "execution_count": null,
      "outputs": []
    },
    {
      "cell_type": "code",
      "metadata": {
        "colab": {
          "base_uri": "https://localhost:8080/"
        },
        "id": "WUjHRlo8_oRF",
        "outputId": "ed912c76-41cf-46db-c326-05fa1f74f61f"
      },
      "source": [
        "X['good_bad_flag'].value_counts()"
      ],
      "execution_count": null,
      "outputs": [
        {
          "output_type": "execute_result",
          "data": {
            "text/plain": [
              "0    2560\n",
              "1     712\n",
              "Name: good_bad_flag, dtype: int64"
            ]
          },
          "metadata": {
            "tags": []
          },
          "execution_count": 6
        }
      ]
    },
    {
      "cell_type": "code",
      "metadata": {
        "colab": {
          "base_uri": "https://localhost:8080/",
          "height": 298
        },
        "id": "EIzEyj4v_qAE",
        "outputId": "9ca50b1d-e7f6-4f50-bbed-229c54cda748"
      },
      "source": [
        "X['good_bad_flag'].value_counts(normalize=True).plot(kind='barh')\n",
        "plt.title('Class distribution')"
      ],
      "execution_count": null,
      "outputs": [
        {
          "output_type": "execute_result",
          "data": {
            "text/plain": [
              "Text(0.5, 1.0, 'Class distribution')"
            ]
          },
          "metadata": {
            "tags": []
          },
          "execution_count": 7
        },
        {
          "output_type": "display_data",
          "data": {
            "image/png": "[encoded data removed]",
            "text/plain": [
              "<Figure size 432x288 with 1 Axes>"
            ]
          },
          "metadata": {
            "tags": []
          }
        }
      ]
    },
    {
      "cell_type": "markdown",
      "metadata": {
        "id": "pvejXjbB_xig"
      },
      "source": [
        "### Data Processing and Modeling\n",
        "\n",
        "We are going to create two different models (Random Forest and XGBoost). First we encode categorical features, which are bank_name_clients, employment_status_clients, and bank_account_type by using one hot encoding. Then we will check how good our model is."
      ]
    },
    {
      "cell_type": "code",
      "metadata": {
        "id": "LKQqe8MY_tam"
      },
      "source": [
        "from sklearn.model_selection import train_test_split\n",
        "from sklearn.metrics import plot_roc_curve, plot_confusion_matrix\n",
        "from sklearn.pipeline import Pipeline\n",
        "from sklearn.compose import ColumnTransformer\n",
        "from sklearn.preprocessing import OneHotEncoder\n",
        "from sklearn.preprocessing import StandardScaler"
      ],
      "execution_count": null,
      "outputs": []
    },
    {
      "cell_type": "code",
      "metadata": {
        "id": "77qvrh9C_83G"
      },
      "source": [
        "x = X.drop(columns=['good_bad_flag'])#.to_numpy()\n",
        "y = X['good_bad_flag']#.to_numpy(dtype=np.int)\n",
        "#We use the 70% of the data to train the model and the 30% to test the data\n",
        "x_train, x_test, y_train, y_test = train_test_split(x, y, test_size=0.3, random_state=27)"
      ],
      "execution_count": null,
      "outputs": []
    },
    {
      "cell_type": "code",
      "metadata": {
        "id": "AHocPee6_9TP"
      },
      "source": [
        "#Define the categorical and numerical features\n",
        "categoric_features = ['bank_name_clients', 'employment_status_clients', 'bank_account_type']\n",
        "numeric_features = x.columns.difference(categoric_features)\n",
        "#Define the encoder for categorical values\n",
        "categorical_transformer = Pipeline(steps=[\n",
        "                                          ('onehot', OneHotEncoder())\n",
        "])\n",
        "#Define the strategy to apply to numerical data\n",
        "numeric_transformer = Pipeline(steps=[\n",
        "                                      ('standard_scaler', StandardScaler())\n",
        "])\n",
        "#Transformer:  takes the original data and transform categorical and numerical features\n",
        "preprocessor = ColumnTransformer(transformers=[\n",
        "                                               ('numeric', numeric_transformer, numeric_features),\n",
        "                                               ('categorical', categorical_transformer, categoric_features)\n",
        "])\n"
      ],
      "execution_count": null,
      "outputs": []
    },
    {
      "cell_type": "markdown",
      "metadata": {
        "id": "qewqF3HAARPM"
      },
      "source": [
        "**Random Forest**"
      ]
    },
    {
      "cell_type": "code",
      "metadata": {
        "id": "7mDXawbA_-oa"
      },
      "source": [
        "from sklearn.ensemble import RandomForestClassifier"
      ],
      "execution_count": null,
      "outputs": []
    },
    {
      "cell_type": "code",
      "metadata": {
        "id": "P4y5uin3AVR5"
      },
      "source": [
        "#Define the weights for each class\n",
        "w0 = sum(y==0)/np.bincount(y).sum()\n",
        "w1 = sum(y==1)/np.bincount(y).sum()\n",
        "rf_params = {\n",
        "    'n_estimators': 1000,\n",
        "    'max_depth': 20,\n",
        "    'n_jobs': -1,\n",
        "    'class_weight': {0:w0, 1:w1},\n",
        "    'random_state': 27\n",
        "}"
      ],
      "execution_count": null,
      "outputs": []
    },
    {
      "cell_type": "code",
      "metadata": {
        "id": "7sv96r6wAWDQ"
      },
      "source": [
        "#Model object: takes original data, processes it and applies the random forest\n",
        "clf_rf = Pipeline(steps=[\n",
        "                      ('preprocessor', preprocessor),\n",
        "                      ('classifier', RandomForestClassifier(**rf_params))\n",
        "])"
      ],
      "execution_count": null,
      "outputs": []
    },
    {
      "cell_type": "code",
      "metadata": {
        "id": "qxtzkE0bAZHJ"
      },
      "source": [
        "#Train the model\n",
        "rf_model = clf_rf.fit(x_train, y_train)"
      ],
      "execution_count": null,
      "outputs": []
    },
    {
      "cell_type": "code",
      "metadata": {
        "colab": {
          "base_uri": "https://localhost:8080/",
          "height": 296
        },
        "id": "LCmYAAM3Aa4O",
        "outputId": "3bbba194-3158-4eb6-ac82-63d71742bfc8"
      },
      "source": [
        "#Model assessment\n",
        "plot_confusion_matrix(rf_model, x_test, y_test, values_format='.3g')"
      ],
      "execution_count": null,
      "outputs": [
        {
          "output_type": "execute_result",
          "data": {
            "text/plain": [
              "<sklearn.metrics._plot.confusion_matrix.ConfusionMatrixDisplay at 0x7fdd3a39ed90>"
            ]
          },
          "metadata": {
            "tags": []
          },
          "execution_count": 33
        },
        {
          "output_type": "display_data",
          "data": {
            "image/png": "[encoded data removed]",
            "text/plain": [
              "<Figure size 432x288 with 2 Axes>"
            ]
          },
          "metadata": {
            "tags": []
          }
        }
      ]
    },
    {
      "cell_type": "markdown",
      "metadata": {
        "id": "khCb4pGjHHSy"
      },
      "source": [
        "**XGBoost**"
      ]
    },
    {
      "cell_type": "code",
      "metadata": {
        "id": "2EfFVRIFHFE7"
      },
      "source": [
        "#Loading the libraries that we need to build our model\n",
        "import xgboost as xgb"
      ],
      "execution_count": null,
      "outputs": []
    },
    {
      "cell_type": "code",
      "metadata": {
        "id": "GAfE7a2hHN2O"
      },
      "source": [
        "#We create a dictionary that contains our model hyperparameters\n",
        "params_xgb = {\n",
        "    'n_estimators': 1000,\n",
        "    'learning_rate': 0.1,\n",
        "    'subsample': 0.8,\n",
        "    #'reg_alpha': 1,\n",
        "    'max_depth': 10,\n",
        "    'objective': 'binary:logistic',\n",
        "    'scale_pos_weight': 5\n",
        "}\n",
        "clf_xgb = Pipeline(steps=[\n",
        "                      ('preprocessor', preprocessor),\n",
        "                      ('classifier', xgb.XGBClassifier(**params_xgb))\n",
        "])\n",
        "\n",
        "clf_xgb = clf_xgb.fit(x_train, y_train)\n"
      ],
      "execution_count": null,
      "outputs": []
    },
    {
      "cell_type": "code",
      "metadata": {
        "colab": {
          "base_uri": "https://localhost:8080/",
          "height": 296
        },
        "id": "dOBwI4evHPjU",
        "outputId": "f6805cef-ddd4-4130-c31e-af4d5b784e71"
      },
      "source": [
        "plot_confusion_matrix(clf_xgb, x_test, y_test, values_format='.3g')"
      ],
      "execution_count": null,
      "outputs": [
        {
          "output_type": "execute_result",
          "data": {
            "text/plain": [
              "<sklearn.metrics._plot.confusion_matrix.ConfusionMatrixDisplay at 0x7fdd3a27e110>"
            ]
          },
          "metadata": {
            "tags": []
          },
          "execution_count": 36
        },
        {
          "output_type": "display_data",
          "data": {
            "image/png": "[encoded data removed]",
            "text/plain": [
              "<Figure size 432x288 with 2 Axes>"
            ]
          },
          "metadata": {
            "tags": []
          }
        }
      ]
    },
    {
      "cell_type": "markdown",
      "metadata": {
        "id": "U1ligznoAoNH"
      },
      "source": [
        "### DiCE "
      ]
    },
    {
      "cell_type": "code",
      "metadata": {
        "id": "cjAupHIgAbJy",
        "colab": {
          "base_uri": "https://localhost:8080/"
        },
        "outputId": "1ff6c0c0-d894-4b18-d6cb-e178a33c9ba9"
      },
      "source": [
        "#If DICE is not installed\n",
        "! pip install dice-ml"
      ],
      "execution_count": null,
      "outputs": [
        {
          "output_type": "stream",
          "text": [
            "Collecting dice-ml\n",
            "\u001b[?25l  Downloading https://files.pythonhosted.org/packages/5d/f6/a03a99da609497eac2217be1caecdf0d7d26933d86bc12c293360b3f6fc9/dice_ml-0.6.1-py3-none-any.whl (231kB)\n",
            "\r\u001b[K     |█▍                              | 10kB 13.9MB/s eta 0:00:01\r\u001b[K     |██▉                             | 20kB 17.6MB/s eta 0:00:01\r\u001b[K     |████▎                           | 30kB 20.5MB/s eta 0:00:01\r\u001b[K     |█████▋                          | 40kB 22.3MB/s eta 0:00:01\r\u001b[K     |███████                         | 51kB 23.3MB/s eta 0:00:01\r\u001b[K     |████████▌                       | 61kB 24.8MB/s eta 0:00:01\r\u001b[K     |██████████                      | 71kB 25.2MB/s eta 0:00:01\r\u001b[K     |███████████▎                    | 81kB 25.0MB/s eta 0:00:01\r\u001b[K     |████████████▊                   | 92kB 24.2MB/s eta 0:00:01\r\u001b[K     |██████████████▏                 | 102kB 24.3MB/s eta 0:00:01\r\u001b[K     |███████████████▋                | 112kB 24.3MB/s eta 0:00:01\r\u001b[K     |█████████████████               | 122kB 24.3MB/s eta 0:00:01\r\u001b[K     |██████████████████▍             | 133kB 24.3MB/s eta 0:00:01\r\u001b[K     |███████████████████▉            | 143kB 24.3MB/s eta 0:00:01\r\u001b[K     |█████████████████████▎          | 153kB 24.3MB/s eta 0:00:01\r\u001b[K     |██████████████████████▋         | 163kB 24.3MB/s eta 0:00:01\r\u001b[K     |████████████████████████        | 174kB 24.3MB/s eta 0:00:01\r\u001b[K     |█████████████████████████▌      | 184kB 24.3MB/s eta 0:00:01\r\u001b[K     |██████████████████████████▉     | 194kB 24.3MB/s eta 0:00:01\r\u001b[K     |████████████████████████████▎   | 204kB 24.3MB/s eta 0:00:01\r\u001b[K     |█████████████████████████████▊  | 215kB 24.3MB/s eta 0:00:01\r\u001b[K     |███████████████████████████████▏| 225kB 24.3MB/s eta 0:00:01\r\u001b[K     |████████████████████████████████| 235kB 24.3MB/s \n",
            "\u001b[?25hRequirement already satisfied: h5py in /usr/local/lib/python3.7/dist-packages (from dice-ml) (3.1.0)\n",
            "Requirement already satisfied: pandas in /usr/local/lib/python3.7/dist-packages (from dice-ml) (1.1.5)\n",
            "Requirement already satisfied: numpy in /usr/local/lib/python3.7/dist-packages (from dice-ml) (1.19.5)\n",
            "Requirement already satisfied: scikit-learn in /usr/local/lib/python3.7/dist-packages (from dice-ml) (0.22.2.post1)\n",
            "Requirement already satisfied: tqdm in /usr/local/lib/python3.7/dist-packages (from dice-ml) (4.41.1)\n",
            "Requirement already satisfied: cached-property; python_version < \"3.8\" in /usr/local/lib/python3.7/dist-packages (from h5py->dice-ml) (1.5.2)\n",
            "Requirement already satisfied: pytz>=2017.2 in /usr/local/lib/python3.7/dist-packages (from pandas->dice-ml) (2018.9)\n",
            "Requirement already satisfied: python-dateutil>=2.7.3 in /usr/local/lib/python3.7/dist-packages (from pandas->dice-ml) (2.8.1)\n",
            "Requirement already satisfied: joblib>=0.11 in /usr/local/lib/python3.7/dist-packages (from scikit-learn->dice-ml) (1.0.1)\n",
            "Requirement already satisfied: scipy>=0.17.0 in /usr/local/lib/python3.7/dist-packages (from scikit-learn->dice-ml) (1.4.1)\n",
            "Requirement already satisfied: six>=1.5 in /usr/local/lib/python3.7/dist-packages (from python-dateutil>=2.7.3->pandas->dice-ml) (1.15.0)\n",
            "Installing collected packages: dice-ml\n",
            "Successfully installed dice-ml-0.6.1\n"
          ],
          "name": "stdout"
        }
      ]
    },
    {
      "cell_type": "code",
      "metadata": {
        "id": "cYKO_jmGAsnN"
      },
      "source": [
        "#Loading the dice module\n",
        "import dice_ml\n",
        "from dice_ml.utils import helpers \n",
        "import json  "
      ],
      "execution_count": null,
      "outputs": []
    },
    {
      "cell_type": "code",
      "metadata": {
        "id": "dgt2BjC-Atzg"
      },
      "source": [
        "#DiCE data object\n",
        "data = dice_ml.Data(dataframe=X, continuous_features=list(numeric_features), outcome_name='good_bad_flag')\n",
        "#DiCE model object\n",
        "model_exp = dice_ml.Model(model=rf_model, backend='sklearn')\n",
        "#Creates the explanations \n",
        "exp = dice_ml.Dice(data, model_exp, method=\"random\")"
      ],
      "execution_count": null,
      "outputs": []
    },
    {
      "cell_type": "code",
      "metadata": {
        "id": "cCuhDFYOA16b",
        "colab": {
          "base_uri": "https://localhost:8080/",
          "height": 262
        },
        "outputId": "7223dda3-fdd4-45fe-8a10-510706cbb5c5"
      },
      "source": [
        "#We take an example of our training set \n",
        "#We set the number of counterfactual explanations to 2. \n",
        "e1 = exp.generate_counterfactuals(x_train[354:355], total_CFs=2, desired_class=\"opposite\")\n",
        "#Show counterfactual explanations\n",
        "e1.visualize_as_dataframe(show_only_changes=True)"
      ],
      "execution_count": null,
      "outputs": [
        {
          "output_type": "stream",
          "text": [
            "100%|██████████| 1/1 [00:02<00:00,  2.21s/it]"
          ],
          "name": "stderr"
        },
        {
          "output_type": "stream",
          "text": [
            "Query instance (original outcome : 0)\n"
          ],
          "name": "stdout"
        },
        {
          "output_type": "stream",
          "text": [
            "\n"
          ],
          "name": "stderr"
        },
        {
          "output_type": "display_data",
          "data": {
            "text/html": [
              "<div>\n",
              "<style scoped>\n",
              "    .dataframe tbody tr th:only-of-type {\n",
              "        vertical-align: middle;\n",
              "    }\n",
              "\n",
              "    .dataframe tbody tr th {\n",
              "        vertical-align: top;\n",
              "    }\n",
              "\n",
              "    .dataframe thead th {\n",
              "        text-align: right;\n",
              "    }\n",
              "</style>\n",
              "<table border=\"1\" class=\"dataframe\">\n",
              "  <thead>\n",
              "    <tr style=\"text-align: right;\">\n",
              "      <th></th>\n",
              "      <th>loannumber</th>\n",
              "      <th>loanamount</th>\n",
              "      <th>totaldue</th>\n",
              "      <th>termdays</th>\n",
              "      <th>interest</th>\n",
              "      <th>interest_rate</th>\n",
              "      <th>age</th>\n",
              "      <th>bank_account_type</th>\n",
              "      <th>longitude_gps</th>\n",
              "      <th>latitude_gps</th>\n",
              "      <th>bank_name_clients</th>\n",
              "      <th>employment_status_clients</th>\n",
              "      <th>loanamount_mean</th>\n",
              "      <th>totaldue_mean</th>\n",
              "      <th>termdays_mean</th>\n",
              "      <th>interest_mean</th>\n",
              "      <th>interest_rate_mean</th>\n",
              "      <th>diff_firstrepaiddate_firstduedate_mean</th>\n",
              "      <th>diff_closeddate_creationdate_mean</th>\n",
              "      <th>repaid_dayofweek_mean</th>\n",
              "      <th>due_dayofweek_mean</th>\n",
              "      <th>good_bad_flag</th>\n",
              "    </tr>\n",
              "  </thead>\n",
              "  <tbody>\n",
              "    <tr>\n",
              "      <th>0</th>\n",
              "      <td>3</td>\n",
              "      <td>10000.0</td>\n",
              "      <td>13000.0</td>\n",
              "      <td>30</td>\n",
              "      <td>3000.0</td>\n",
              "      <td>30.0</td>\n",
              "      <td>40</td>\n",
              "      <td>Current</td>\n",
              "      <td>7.354188</td>\n",
              "      <td>5.13684</td>\n",
              "      <td>Union Bank</td>\n",
              "      <td>Permanent</td>\n",
              "      <td>10000.0</td>\n",
              "      <td>12250.0</td>\n",
              "      <td>0.06</td>\n",
              "      <td>2250.0</td>\n",
              "      <td>22.5</td>\n",
              "      <td>0.0</td>\n",
              "      <td>24.0</td>\n",
              "      <td>4.5</td>\n",
              "      <td>1.0</td>\n",
              "      <td>0</td>\n",
              "    </tr>\n",
              "  </tbody>\n",
              "</table>\n",
              "</div>"
            ],
            "text/plain": [
              "   loannumber  loanamount  ...  due_dayofweek_mean  good_bad_flag\n",
              "0           3     10000.0  ...                 1.0              0\n",
              "\n",
              "[1 rows x 22 columns]"
            ]
          },
          "metadata": {
            "tags": []
          }
        },
        {
          "output_type": "stream",
          "text": [
            "\n",
            "Diverse Counterfactual set (new outcome: 1.0)\n"
          ],
          "name": "stdout"
        },
        {
          "output_type": "display_data",
          "data": {
            "text/html": [
              "<div>\n",
              "<style scoped>\n",
              "    .dataframe tbody tr th:only-of-type {\n",
              "        vertical-align: middle;\n",
              "    }\n",
              "\n",
              "    .dataframe tbody tr th {\n",
              "        vertical-align: top;\n",
              "    }\n",
              "\n",
              "    .dataframe thead th {\n",
              "        text-align: right;\n",
              "    }\n",
              "</style>\n",
              "<table border=\"1\" class=\"dataframe\">\n",
              "  <thead>\n",
              "    <tr style=\"text-align: right;\">\n",
              "      <th></th>\n",
              "      <th>loannumber</th>\n",
              "      <th>loanamount</th>\n",
              "      <th>totaldue</th>\n",
              "      <th>termdays</th>\n",
              "      <th>interest</th>\n",
              "      <th>interest_rate</th>\n",
              "      <th>age</th>\n",
              "      <th>bank_account_type</th>\n",
              "      <th>longitude_gps</th>\n",
              "      <th>latitude_gps</th>\n",
              "      <th>bank_name_clients</th>\n",
              "      <th>employment_status_clients</th>\n",
              "      <th>loanamount_mean</th>\n",
              "      <th>totaldue_mean</th>\n",
              "      <th>termdays_mean</th>\n",
              "      <th>interest_mean</th>\n",
              "      <th>interest_rate_mean</th>\n",
              "      <th>diff_firstrepaiddate_firstduedate_mean</th>\n",
              "      <th>diff_closeddate_creationdate_mean</th>\n",
              "      <th>repaid_dayofweek_mean</th>\n",
              "      <th>due_dayofweek_mean</th>\n",
              "      <th>good_bad_flag</th>\n",
              "    </tr>\n",
              "  </thead>\n",
              "  <tbody>\n",
              "    <tr>\n",
              "      <th>0</th>\n",
              "      <td>-</td>\n",
              "      <td>-</td>\n",
              "      <td>-</td>\n",
              "      <td>-</td>\n",
              "      <td>-</td>\n",
              "      <td>-</td>\n",
              "      <td>-</td>\n",
              "      <td>-</td>\n",
              "      <td>-</td>\n",
              "      <td>64.977718</td>\n",
              "      <td>-</td>\n",
              "      <td>-</td>\n",
              "      <td>-</td>\n",
              "      <td>-</td>\n",
              "      <td>-</td>\n",
              "      <td>-</td>\n",
              "      <td>-</td>\n",
              "      <td>83.1</td>\n",
              "      <td>-</td>\n",
              "      <td>-</td>\n",
              "      <td>-</td>\n",
              "      <td>1</td>\n",
              "    </tr>\n",
              "    <tr>\n",
              "      <th>1</th>\n",
              "      <td>-</td>\n",
              "      <td>-</td>\n",
              "      <td>-</td>\n",
              "      <td>-</td>\n",
              "      <td>-</td>\n",
              "      <td>-</td>\n",
              "      <td>-</td>\n",
              "      <td>Savings</td>\n",
              "      <td>-</td>\n",
              "      <td>-</td>\n",
              "      <td>-</td>\n",
              "      <td>-</td>\n",
              "      <td>-</td>\n",
              "      <td>-</td>\n",
              "      <td>-</td>\n",
              "      <td>-</td>\n",
              "      <td>-</td>\n",
              "      <td>113.9</td>\n",
              "      <td>-</td>\n",
              "      <td>-</td>\n",
              "      <td>-</td>\n",
              "      <td>1</td>\n",
              "    </tr>\n",
              "  </tbody>\n",
              "</table>\n",
              "</div>"
            ],
            "text/plain": [
              "  loannumber loanamount  ... due_dayofweek_mean good_bad_flag\n",
              "0          -          -  ...                  -             1\n",
              "1          -          -  ...                  -             1\n",
              "\n",
              "[2 rows x 22 columns]"
            ]
          },
          "metadata": {
            "tags": []
          }
        }
      ]
    },
    {
      "cell_type": "markdown",
      "metadata": {
        "id": "f5x6TPTsBRP8"
      },
      "source": [
        "In this particular case we selected a person considered by our credit scoring model as solvent person. Both considered counterfactual explanations show that if historically the person  delayed the payment of its previous loans, the loan would be denied. "
      ]
    },
    {
      "cell_type": "code",
      "metadata": {
        "id": "HkQmrVV3BP8i",
        "colab": {
          "base_uri": "https://localhost:8080/",
          "height": 293
        },
        "outputId": "f3ec3bab-ecbe-4bb3-a0d0-7e7d20291558"
      },
      "source": [
        "#We take an example of our training set \n",
        "#We set the number of counterfactual explanations to 2. \n",
        "#First of all we are going to define which features are easier to vary from a human stand point\n",
        "#static_features = ['loanamount', 'totaldue', 'termdays', 'interest', 'age', 'interest_rate', 'longitude_gps', 'longitude_gps', 'loannumber']\n",
        "#features_to_vary = x.columns.difference(static_features)\n",
        "index_client = 398\n",
        "features_to_vary = ['loanamount', 'employment_status_clients', 'diff_firstrepaiddate_firstduedate_mean']\n",
        "#generate the counterfactuals\n",
        "e2 = exp.generate_counterfactuals(x[index_client:index_client+1], \n",
        "                                  total_CFs=3, desired_class=\"opposite\",\n",
        "                                  random_seed=30000, \n",
        "                                  features_to_vary=list(features_to_vary),\n",
        "                                  permitted_range={'employment_status_clients': ['Permanent', 'Self-Employed'],\n",
        "                                                   'loanamount': [10000, 30000], \n",
        "                                                   'diff_firstrepaiddate_firstduedate_mean': [-30, 30]},\n",
        "                                  )\n",
        "#Show counterfactual explanations\n",
        "e2.visualize_as_dataframe(show_only_changes=True)"
      ],
      "execution_count": null,
      "outputs": [
        {
          "output_type": "stream",
          "text": [
            "100%|██████████| 1/1 [00:02<00:00,  2.38s/it]"
          ],
          "name": "stderr"
        },
        {
          "output_type": "stream",
          "text": [
            "Query instance (original outcome : 1)\n"
          ],
          "name": "stdout"
        },
        {
          "output_type": "stream",
          "text": [
            "\n"
          ],
          "name": "stderr"
        },
        {
          "output_type": "display_data",
          "data": {
            "text/html": [
              "<div>\n",
              "<style scoped>\n",
              "    .dataframe tbody tr th:only-of-type {\n",
              "        vertical-align: middle;\n",
              "    }\n",
              "\n",
              "    .dataframe tbody tr th {\n",
              "        vertical-align: top;\n",
              "    }\n",
              "\n",
              "    .dataframe thead th {\n",
              "        text-align: right;\n",
              "    }\n",
              "</style>\n",
              "<table border=\"1\" class=\"dataframe\">\n",
              "  <thead>\n",
              "    <tr style=\"text-align: right;\">\n",
              "      <th></th>\n",
              "      <th>loannumber</th>\n",
              "      <th>loanamount</th>\n",
              "      <th>totaldue</th>\n",
              "      <th>termdays</th>\n",
              "      <th>interest</th>\n",
              "      <th>interest_rate</th>\n",
              "      <th>age</th>\n",
              "      <th>bank_account_type</th>\n",
              "      <th>longitude_gps</th>\n",
              "      <th>latitude_gps</th>\n",
              "      <th>bank_name_clients</th>\n",
              "      <th>employment_status_clients</th>\n",
              "      <th>loanamount_mean</th>\n",
              "      <th>totaldue_mean</th>\n",
              "      <th>termdays_mean</th>\n",
              "      <th>interest_mean</th>\n",
              "      <th>interest_rate_mean</th>\n",
              "      <th>diff_firstrepaiddate_firstduedate_mean</th>\n",
              "      <th>diff_closeddate_creationdate_mean</th>\n",
              "      <th>repaid_dayofweek_mean</th>\n",
              "      <th>due_dayofweek_mean</th>\n",
              "      <th>good_bad_flag</th>\n",
              "    </tr>\n",
              "  </thead>\n",
              "  <tbody>\n",
              "    <tr>\n",
              "      <th>0</th>\n",
              "      <td>6</td>\n",
              "      <td>30000.0</td>\n",
              "      <td>34500.0</td>\n",
              "      <td>30</td>\n",
              "      <td>4500.0</td>\n",
              "      <td>15.0</td>\n",
              "      <td>30</td>\n",
              "      <td>Other</td>\n",
              "      <td>8.113206</td>\n",
              "      <td>6.324524</td>\n",
              "      <td>UBA</td>\n",
              "      <td>Student</td>\n",
              "      <td>18000.0</td>\n",
              "      <td>20850.0</td>\n",
              "      <td>0.056</td>\n",
              "      <td>2850.0</td>\n",
              "      <td>15.75</td>\n",
              "      <td>-2.2</td>\n",
              "      <td>19.2</td>\n",
              "      <td>2.2</td>\n",
              "      <td>1.6</td>\n",
              "      <td>1</td>\n",
              "    </tr>\n",
              "  </tbody>\n",
              "</table>\n",
              "</div>"
            ],
            "text/plain": [
              "   loannumber  loanamount  ...  due_dayofweek_mean  good_bad_flag\n",
              "0           6     30000.0  ...                 1.6              1\n",
              "\n",
              "[1 rows x 22 columns]"
            ]
          },
          "metadata": {
            "tags": []
          }
        },
        {
          "output_type": "stream",
          "text": [
            "\n",
            "Diverse Counterfactual set (new outcome: 0.0)\n"
          ],
          "name": "stdout"
        },
        {
          "output_type": "display_data",
          "data": {
            "text/html": [
              "<div>\n",
              "<style scoped>\n",
              "    .dataframe tbody tr th:only-of-type {\n",
              "        vertical-align: middle;\n",
              "    }\n",
              "\n",
              "    .dataframe tbody tr th {\n",
              "        vertical-align: top;\n",
              "    }\n",
              "\n",
              "    .dataframe thead th {\n",
              "        text-align: right;\n",
              "    }\n",
              "</style>\n",
              "<table border=\"1\" class=\"dataframe\">\n",
              "  <thead>\n",
              "    <tr style=\"text-align: right;\">\n",
              "      <th></th>\n",
              "      <th>loannumber</th>\n",
              "      <th>loanamount</th>\n",
              "      <th>totaldue</th>\n",
              "      <th>termdays</th>\n",
              "      <th>interest</th>\n",
              "      <th>interest_rate</th>\n",
              "      <th>age</th>\n",
              "      <th>bank_account_type</th>\n",
              "      <th>longitude_gps</th>\n",
              "      <th>latitude_gps</th>\n",
              "      <th>bank_name_clients</th>\n",
              "      <th>employment_status_clients</th>\n",
              "      <th>loanamount_mean</th>\n",
              "      <th>totaldue_mean</th>\n",
              "      <th>termdays_mean</th>\n",
              "      <th>interest_mean</th>\n",
              "      <th>interest_rate_mean</th>\n",
              "      <th>diff_firstrepaiddate_firstduedate_mean</th>\n",
              "      <th>diff_closeddate_creationdate_mean</th>\n",
              "      <th>repaid_dayofweek_mean</th>\n",
              "      <th>due_dayofweek_mean</th>\n",
              "      <th>good_bad_flag</th>\n",
              "    </tr>\n",
              "  </thead>\n",
              "  <tbody>\n",
              "    <tr>\n",
              "      <th>0</th>\n",
              "      <td>-</td>\n",
              "      <td>21001.4</td>\n",
              "      <td>-</td>\n",
              "      <td>-</td>\n",
              "      <td>-</td>\n",
              "      <td>-</td>\n",
              "      <td>-</td>\n",
              "      <td>-</td>\n",
              "      <td>-</td>\n",
              "      <td>-</td>\n",
              "      <td>-</td>\n",
              "      <td>Permanent</td>\n",
              "      <td>-</td>\n",
              "      <td>-</td>\n",
              "      <td>-</td>\n",
              "      <td>-</td>\n",
              "      <td>-</td>\n",
              "      <td>-</td>\n",
              "      <td>-</td>\n",
              "      <td>-</td>\n",
              "      <td>-</td>\n",
              "      <td>0</td>\n",
              "    </tr>\n",
              "    <tr>\n",
              "      <th>1</th>\n",
              "      <td>-</td>\n",
              "      <td>-</td>\n",
              "      <td>-</td>\n",
              "      <td>-</td>\n",
              "      <td>-</td>\n",
              "      <td>-</td>\n",
              "      <td>-</td>\n",
              "      <td>-</td>\n",
              "      <td>-</td>\n",
              "      <td>-</td>\n",
              "      <td>-</td>\n",
              "      <td>Self-Employed</td>\n",
              "      <td>-</td>\n",
              "      <td>-</td>\n",
              "      <td>-</td>\n",
              "      <td>-</td>\n",
              "      <td>-</td>\n",
              "      <td>-28.2</td>\n",
              "      <td>-</td>\n",
              "      <td>-</td>\n",
              "      <td>-</td>\n",
              "      <td>0</td>\n",
              "    </tr>\n",
              "    <tr>\n",
              "      <th>2</th>\n",
              "      <td>-</td>\n",
              "      <td>18366.7</td>\n",
              "      <td>-</td>\n",
              "      <td>-</td>\n",
              "      <td>-</td>\n",
              "      <td>-</td>\n",
              "      <td>-</td>\n",
              "      <td>-</td>\n",
              "      <td>-</td>\n",
              "      <td>-</td>\n",
              "      <td>-</td>\n",
              "      <td>Permanent</td>\n",
              "      <td>-</td>\n",
              "      <td>-</td>\n",
              "      <td>-</td>\n",
              "      <td>-</td>\n",
              "      <td>-</td>\n",
              "      <td>-</td>\n",
              "      <td>-</td>\n",
              "      <td>-</td>\n",
              "      <td>-</td>\n",
              "      <td>0</td>\n",
              "    </tr>\n",
              "  </tbody>\n",
              "</table>\n",
              "</div>"
            ],
            "text/plain": [
              "  loannumber loanamount  ... due_dayofweek_mean good_bad_flag\n",
              "0          -    21001.4  ...                  -             0\n",
              "1          -          -  ...                  -             0\n",
              "2          -    18366.7  ...                  -             0\n",
              "\n",
              "[3 rows x 22 columns]"
            ]
          },
          "metadata": {
            "tags": []
          }
        }
      ]
    },
    {
      "cell_type": "code",
      "metadata": {
        "id": "5qS82WGu1X00"
      },
      "source": [
        "def get_explanations(explanations, features_varied=[]):\n",
        "  features_varied = features_varied.copy()\n",
        "  #Get the explanations as a json object\n",
        "  inf = json.loads(explanations.to_json())\n",
        "  exp_list = inf['cfs_list'][0]\n",
        "  #Get the original instance\n",
        "  original_instance = inf['test_data']\n",
        "  #feature names\n",
        "  feature_name_dict = {}\n",
        "  feature_names = inf['feature_names']\n",
        "  for i, item in enumerate(feature_names):\n",
        "    feature_name_dict[i] = item\n",
        "  feature_name_dict[len(feature_names)] = 'good_bad_flag'\n",
        "  features_varied.append('good_bad_flag')\n",
        "  #Get the explanations and convert the results to a dataframe\n",
        "  exp_dict = {}\n",
        "  exp_dict[0] = original_instance[0][0]\n",
        "  for i in range(len(exp_list)):\n",
        "    exp_dict[i+1] = exp_list[i]\n",
        "  #Create a dataframe with the results\n",
        "  cf_df = pd.DataFrame.from_dict(data=exp_dict, orient='index')\n",
        "  cf_df = cf_df.rename(columns=feature_name_dict)\n",
        "  return cf_df[features_varied]"
      ],
      "execution_count": null,
      "outputs": []
    },
    {
      "cell_type": "code",
      "metadata": {
        "id": "e6V1NeZJguiC"
      },
      "source": [
        "cf_df = plot_cf(e2, features_varied=features_to_vary)\n",
        "cf_df['good_bad_flag'] = cf_df['good_bad_flag'].apply(lambda x: 'Approved' if x==0.0 else 'Denied') "
      ],
      "execution_count": null,
      "outputs": []
    },
    {
      "cell_type": "code",
      "metadata": {
        "colab": {
          "base_uri": "https://localhost:8080/",
          "height": 240
        },
        "id": "V7HM3PSzNbWr",
        "outputId": "cb38cbeb-7ab7-4aa7-cfed-97af4ff62dfa"
      },
      "source": [
        "colors = [\"#FF0B04\",\"#00FF00\"]\n",
        "palette = sns.set_palette(sns.color_palette(colors))\n",
        "fig, ax = plt.subplots(figsize=(6, 6))\n",
        "\n",
        "g = sns.scatterplot(data=cf_df, \n",
        "                x=\"diff_firstrepaiddate_firstduedate_mean\", \n",
        "                y=\"loanamount\",\n",
        "                palette=palette, \n",
        "                hue=\"good_bad_flag\", \n",
        "                style=\"employment_status_clients\", \n",
        "                s=150\n",
        "                )\n",
        "x = cf_df.iloc[1,[0,2]].values[1]\n",
        "y = cf_df.iloc[1,[0,2]].values[0]\n",
        "\n",
        "ax.annotate('Denied', xy=(-2.2, 30000),  xycoords='data',\n",
        "            xytext=(0,40),textcoords=\"offset points\",\n",
        "            arrowprops=dict(facecolor='black', shrink=0.05),\n",
        "            horizontalalignment='center', verticalalignment='top',\n",
        "            )\n",
        "ax.annotate('Approved', xy=(x, y),  xycoords='data',\n",
        "            xytext=(0,40),textcoords=\"offset points\",\n",
        "            arrowprops=dict(facecolor='black', shrink=0.05),\n",
        "            horizontalalignment='center', verticalalignment='top',\n",
        "            )\n",
        "x_max = cf_df['diff_firstrepaiddate_firstduedate_mean'].max()\n",
        "x_min = cf_df['diff_firstrepaiddate_firstduedate_mean'].min()\n",
        "delta_x = x_max-x_min\n",
        "y_max = cf_df['loanamount'].max()\n",
        "y_min = cf_df['loanamount'].min()\n",
        "delta_y = y_max-y_min\n",
        "ax.set_xlim([x_min-delta_x/5, x_max+delta_x/5])\n",
        "ax.set_ylim([y_min-delta_y/5, y_max+delta_y/5])\n",
        "ax.set_xlabel('Average delay in the first payment of previous loans')\n",
        "ax.set_ylabel('Loan amount')\n",
        "plt.title('Generated CF explanations')\n",
        "plt.savefig('CF_explanations.png', bbow='tight')"
      ],
      "execution_count": null,
      "outputs": [
        {
          "output_type": "error",
          "ename": "NameError",
          "evalue": "ignored",
          "traceback": [
            "\u001b[0;31m---------------------------------------------------------------------------\u001b[0m",
            "\u001b[0;31mNameError\u001b[0m                                 Traceback (most recent call last)",
            "\u001b[0;32m<ipython-input-1-1379f4b34df8>\u001b[0m in \u001b[0;36m<module>\u001b[0;34m()\u001b[0m\n\u001b[1;32m      1\u001b[0m \u001b[0mcolors\u001b[0m \u001b[0;34m=\u001b[0m \u001b[0;34m[\u001b[0m\u001b[0;34m\"#FF0B04\"\u001b[0m\u001b[0;34m,\u001b[0m\u001b[0;34m\"#00FF00\"\u001b[0m\u001b[0;34m]\u001b[0m\u001b[0;34m\u001b[0m\u001b[0;34m\u001b[0m\u001b[0m\n\u001b[0;32m----> 2\u001b[0;31m \u001b[0mpalette\u001b[0m \u001b[0;34m=\u001b[0m \u001b[0msns\u001b[0m\u001b[0;34m.\u001b[0m\u001b[0mset_palette\u001b[0m\u001b[0;34m(\u001b[0m\u001b[0msns\u001b[0m\u001b[0;34m.\u001b[0m\u001b[0mcolor_palette\u001b[0m\u001b[0;34m(\u001b[0m\u001b[0mcolors\u001b[0m\u001b[0;34m)\u001b[0m\u001b[0;34m)\u001b[0m\u001b[0;34m\u001b[0m\u001b[0;34m\u001b[0m\u001b[0m\n\u001b[0m\u001b[1;32m      3\u001b[0m \u001b[0mfig\u001b[0m\u001b[0;34m,\u001b[0m \u001b[0max\u001b[0m \u001b[0;34m=\u001b[0m \u001b[0mplt\u001b[0m\u001b[0;34m.\u001b[0m\u001b[0msubplots\u001b[0m\u001b[0;34m(\u001b[0m\u001b[0mfigsize\u001b[0m\u001b[0;34m=\u001b[0m\u001b[0;34m(\u001b[0m\u001b[0;36m6\u001b[0m\u001b[0;34m,\u001b[0m \u001b[0;36m6\u001b[0m\u001b[0;34m)\u001b[0m\u001b[0;34m)\u001b[0m\u001b[0;34m\u001b[0m\u001b[0;34m\u001b[0m\u001b[0m\n\u001b[1;32m      4\u001b[0m \u001b[0;34m\u001b[0m\u001b[0m\n\u001b[1;32m      5\u001b[0m g = sns.scatterplot(data=cf_df, \n",
            "\u001b[0;31mNameError\u001b[0m: name 'sns' is not defined"
          ]
        }
      ]
    },
    {
      "cell_type": "code",
      "metadata": {
        "id": "RiuAhIJTjzwl"
      },
      "source": [
        ""
      ],
      "execution_count": null,
      "outputs": []
    },
    {
      "cell_type": "code",
      "metadata": {
        "id": "_0-xI1vFV2fU"
      },
      "source": [
        ""
      ],
      "execution_count": null,
      "outputs": []
    }
  ]
}