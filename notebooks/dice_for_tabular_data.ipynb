{
 "cells": [
  {
   "cell_type": "markdown",
   "metadata": {
    "id": "zzzhZ308vknS"
   },
   "source": [
    "# DIverse Counterfactual Explanations (DICE)"
   ]
  },
  {
   "cell_type": "markdown",
   "metadata": {
    "id": "QKc271XcwrbW"
   },
   "source": [
    "In this tutorial, you will learn how to implement a specific type of post-hoc explanations: counterfactual explanations. But what do counterfactual explanations mean?. This kind of explanations is intended to show how the model works by creating hypothetical examples  with a prediction with respect to the initial studied instance. In order to do so, we are going to focus on the application of DiCE(original article: Mothilal et al.[[1](https://arxiv.org/pdf/1905.07697.pdf)]) using the framework developped by Mothilal, Sharma and Tan https://github.com/interpretml/DiCE.\n",
    "\n"
   ]
  },
  {
   "cell_type": "markdown",
   "metadata": {
    "id": "pwSCM_eTzMAV"
   },
   "source": [
    "## How DiCE generate counterfactual explanations?"
   ]
  },
  {
   "cell_type": "markdown",
   "metadata": {
    "id": "jVCQT3eszW5d"
   },
   "source": [
    "The main idea is to generate a set of k counterfactual examples $\\{c_1, c_2, ..., c_k\\}$ such the decision of the model $f$ given an instance $x$ changes. However, we have to take into account that generating counterfactual examples with a high number of features that have changed is not the ideal approach (Diversity). In the other hand we need to consider counterfactual examples that are close to the original instance $x$ (Proximity) otherwise the explanations will not be useful. \n",
    "\n",
    "Diversity via Determinantal Point Process:\n",
    "\n",
    "\\begin{gather}\n",
    "dpp\\_diversity  = det(K) \n",
    "\\end{gather}\n",
    "where $K_{i,j} = \\frac{1}{1+dist(c_i,c_j)} $ and $dist(c_i,c_j)$ is a distanc metric.\n",
    "\n",
    "Proximity:\n",
    "\\begin{gather}\n",
    "Proximity  := -\\frac{1}{k} \\sum_{i=1}^{k} dist(c_i, x) \n",
    "\\end{gather}\n",
    "\n",
    "Beyond these main constraints, DiCE allows us to implement constraints that are related to \"real world\" problems (e.g., an upper bound for some variables)\n",
    "\n",
    "\n",
    "Based on these definitions DiCE considers the next loss function to be optimized.\n",
    "\n",
    "\\begin{gather}\n",
    "C(x)  = arg\\;min_{c_1, c_2, ..., c_k} \\frac{1}{k}\\sum_{i=1}^{k} yloss(f(c_i), y) + \\frac{\\lambda_1}{k} \\sum_{i=1}^{k} dist(c_i, x) \\\\ - \\lambda_2 dpp\\_diversity(c_1, c_2, ..., c_k)\n",
    "\\end{gather}\n",
    "\n",
    "where $yloss()$ is a function that measures the distance between $f(c_i)$ and the desired outcome $y$. Both $\\lambda_1$ and $\\lambda_2$ are hyperparameters that balance the three parts of the loss function."
   ]
  },
  {
   "cell_type": "markdown",
   "metadata": {
    "id": "acR6xaSY8Yc0"
   },
   "source": [
    "## Use Case: Bipolar Disease Crisis Prediction"
   ]
  },
  {
   "cell_type": "markdown",
   "metadata": {
    "id": "BgrOrQQC9NGy"
   },
   "source": [
    "Now we understand how to generate counterfactual explanations, let's focus on a familiar use case in which counterfactual examples are  interesting: Bipolar Disease Crisis Prediction.\n",
    "\n",
    "Bipolar disorder, formerly called manic depression, is a mental health condition that causes extreme mood swings that include emotional highs (mania or hypomania) and lows (depression) which often come accompanied by different features (i.e., physical and psychological features).\n",
    "\n",
    "In this notebook we will create a Bipolar Disease Crisis Prediciton Model using the data available [here](https://datasets.simula.no/depresjon/) and then apply Dice in order to generate counterfactual explanations that will help psychiatrists to understand the causes behind a potential patient tendency towards a mania or depression episode.\n",
    "\n",
    "The use case is organized as follows:\n",
    "1. We load the processed data.\n",
    "2. We develop a Machine Learning based model for the bipolar disease prediction: the [XGBoost](https://arxiv.org/abs/1603.02754).\n",
    "3. We apply DiCE to generate counterfactual explanations (https://github.com/interpretml/DiCE).\n"
   ]
  },
  {
   "cell_type": "code",
   "execution_count": 1,
   "metadata": {},
   "outputs": [],
   "source": [
    "%run ../src/setup.py\n",
    "%run ../src/process_data.py"
   ]
  },
  {
   "cell_type": "markdown",
   "metadata": {
    "id": "YL3LJhEG_LqC"
   },
   "source": [
    "### Setting the Environment\n"
   ]
  },
  {
   "cell_type": "code",
   "execution_count": 2,
   "metadata": {
    "id": "dh9RmgzFzLQ7"
   },
   "outputs": [],
   "source": [
    "import os\n",
    "import sys\n",
    "import warnings\n",
    "warnings.filterwarnings(\"ignore\")\n",
    "\n",
    "import pandas as pd\n",
    "import numpy as np\n",
    "\n",
    "pd.set_option(\"max_rows\", 500)\n",
    "pd.set_option(\"max_columns\", 500)\n",
    "\n",
    "\n",
    "import matplotlib.pyplot as plt\n",
    "import seaborn as sns\n",
    "plt.rc(\"font\", size=16)\n",
    "\n",
    "from sklearn import metrics\n",
    "from sklearn import model_selection\n",
    "\n"
   ]
  },
  {
   "cell_type": "code",
   "execution_count": 70,
   "metadata": {},
   "outputs": [],
   "source": [
    "path_features = \"../data/features.csv\"\n",
    "path_target = \"../data/target.csv\"\n",
    "features = pd.read_csv(path_features)\n",
    "#features[\"edu\"] = features[\"edu\"].astype(str)\n",
    "features[\"edu\"] = features[\"edu\"].apply(lambda x: x if isinstance(x, str) else \"0\")\n",
    "features.replace(to_replace={np.nan: 0.0}, inplace=True)\n",
    "target = pd.read_csv(path_target)"
   ]
  },
  {
   "cell_type": "markdown",
   "metadata": {
    "id": "qegqXiCr_lMf"
   },
   "source": [
    "### Target Distribution\n",
    "\n",
    "- Bipolar II: **1**\n",
    "\n",
    "- Unipolar Depressive: **0** "
   ]
  },
  {
   "cell_type": "code",
   "execution_count": 71,
   "metadata": {
    "id": "yCL5Q2hj_cNr"
   },
   "outputs": [
    {
     "data": {
      "text/plain": [
       "<AxesSubplot:xlabel='# Cases'>"
      ]
     },
     "execution_count": 71,
     "metadata": {},
     "output_type": "execute_result"
    },
    {
     "data": {
      "image/png": "[encoded data removed]",
      "text/plain": [
       "<Figure size 864x864 with 1 Axes>"
      ]
     },
     "metadata": {},
     "output_type": "display_data"
    }
   ],
   "source": [
    "sns.set_style(\"darkgrid\")\n",
    "fig, ax = plt.subplots(figsize=(12,12))\n",
    "counter = target[\"afftype\"].value_counts()\n",
    "counter.rename(index={1.0: \"Bipolar II\", \n",
    "                       0.0: \"Unipolar Depressive\"},\n",
    "               inplace=True\n",
    "              )\n",
    "ax.set_xlabel(\"# Cases\", size=16)\n",
    "counter.plot(kind=\"barh\", ax=ax)"
   ]
  },
  {
   "cell_type": "markdown",
   "metadata": {},
   "source": [
    "## Recoding Original Dataset\n",
    "**In order to genreate the counterfactual explanations, we need the data without the encoding used by the source of data.**"
   ]
  },
  {
   "cell_type": "code",
   "execution_count": 72,
   "metadata": {},
   "outputs": [],
   "source": [
    "def inverse_transform(df):\n",
    "    df_ = df.copy()\n",
    "    df_[\"gender\"].replace(to_replace={2.0: \"male\", 1.0: \"female\"}, inplace=True)\n",
    "    df_[\"work\"].replace(to_replace={2.0: \"unemployed/sick/pension\", 1.0: \"working/studying\"}, inplace=True)\n",
    "    df_[\"marriage\"].replace(to_replace={1.0: \"married/cohabiting\", 2.0: \"single\"}, inplace=True)\n",
    "    df_[\"melanch\"].replace(to_replace={1.0: \"melancholia\", 2.0: \"no melancholia\", 0.0: \"no data\"}, inplace=True)\n",
    "    df_[\"inpatient\"].replace(to_replace={1.0: \"inpatient\", 2.0: \"outpatient\"}, inplace=True)\n",
    "    return df_"
   ]
  },
  {
   "cell_type": "code",
   "execution_count": 73,
   "metadata": {},
   "outputs": [],
   "source": [
    "features = inverse_transform(features)"
   ]
  },
  {
   "cell_type": "code",
   "execution_count": 191,
   "metadata": {},
   "outputs": [],
   "source": [
    "x_train, x_test, y_train, y_test = model_selection.train_test_split(features, \n",
    "                                                                    target, \n",
    "                                                                    test_size=0.3, \n",
    "                                                                    random_state=14,\n",
    "                                                                    stratify=target)"
   ]
  },
  {
   "cell_type": "code",
   "execution_count": 192,
   "metadata": {},
   "outputs": [
    {
     "data": {
      "text/html": [
       "<div>\n",
       "<style scoped>\n",
       "    .dataframe tbody tr th:only-of-type {\n",
       "        vertical-align: middle;\n",
       "    }\n",
       "\n",
       "    .dataframe tbody tr th {\n",
       "        vertical-align: top;\n",
       "    }\n",
       "\n",
       "    .dataframe thead th {\n",
       "        text-align: right;\n",
       "    }\n",
       "</style>\n",
       "<table border=\"1\" class=\"dataframe\">\n",
       "  <thead>\n",
       "    <tr style=\"text-align: right;\">\n",
       "      <th></th>\n",
       "      <th>days</th>\n",
       "      <th>gender</th>\n",
       "      <th>age</th>\n",
       "      <th>melanch</th>\n",
       "      <th>inpatient</th>\n",
       "      <th>edu</th>\n",
       "      <th>marriage</th>\n",
       "      <th>work</th>\n",
       "      <th>madrs1</th>\n",
       "      <th>madrs2</th>\n",
       "      <th>activity_mean</th>\n",
       "      <th>activity_std</th>\n",
       "    </tr>\n",
       "  </thead>\n",
       "  <tbody>\n",
       "    <tr>\n",
       "      <th>20</th>\n",
       "      <td>14</td>\n",
       "      <td>female</td>\n",
       "      <td>65-69</td>\n",
       "      <td>no melancholia</td>\n",
       "      <td>inpatient</td>\n",
       "      <td>0</td>\n",
       "      <td>single</td>\n",
       "      <td>unemployed/sick/pension</td>\n",
       "      <td>29.0</td>\n",
       "      <td>28.0</td>\n",
       "      <td>287.349</td>\n",
       "      <td>279.429</td>\n",
       "    </tr>\n",
       "    <tr>\n",
       "      <th>13</th>\n",
       "      <td>14</td>\n",
       "      <td>female</td>\n",
       "      <td>60-64</td>\n",
       "      <td>no melancholia</td>\n",
       "      <td>outpatient</td>\n",
       "      <td>6-10</td>\n",
       "      <td>single</td>\n",
       "      <td>unemployed/sick/pension</td>\n",
       "      <td>28.0</td>\n",
       "      <td>19.0</td>\n",
       "      <td>205.845</td>\n",
       "      <td>262.523</td>\n",
       "    </tr>\n",
       "    <tr>\n",
       "      <th>1</th>\n",
       "      <td>18</td>\n",
       "      <td>male</td>\n",
       "      <td>40-44</td>\n",
       "      <td>no melancholia</td>\n",
       "      <td>outpatient</td>\n",
       "      <td>6-10</td>\n",
       "      <td>single</td>\n",
       "      <td>unemployed/sick/pension</td>\n",
       "      <td>24.0</td>\n",
       "      <td>11.0</td>\n",
       "      <td>153.673</td>\n",
       "      <td>330.808</td>\n",
       "    </tr>\n",
       "    <tr>\n",
       "      <th>2</th>\n",
       "      <td>13</td>\n",
       "      <td>female</td>\n",
       "      <td>45-49</td>\n",
       "      <td>no melancholia</td>\n",
       "      <td>outpatient</td>\n",
       "      <td>6-10</td>\n",
       "      <td>single</td>\n",
       "      <td>unemployed/sick/pension</td>\n",
       "      <td>24.0</td>\n",
       "      <td>25.0</td>\n",
       "      <td>265.300</td>\n",
       "      <td>399.881</td>\n",
       "    </tr>\n",
       "    <tr>\n",
       "      <th>3</th>\n",
       "      <td>13</td>\n",
       "      <td>male</td>\n",
       "      <td>25-29</td>\n",
       "      <td>no melancholia</td>\n",
       "      <td>outpatient</td>\n",
       "      <td>11-15</td>\n",
       "      <td>married/cohabiting</td>\n",
       "      <td>working/studying</td>\n",
       "      <td>20.0</td>\n",
       "      <td>16.0</td>\n",
       "      <td>451.672</td>\n",
       "      <td>497.075</td>\n",
       "    </tr>\n",
       "    <tr>\n",
       "      <th>4</th>\n",
       "      <td>13</td>\n",
       "      <td>male</td>\n",
       "      <td>50-54</td>\n",
       "      <td>no melancholia</td>\n",
       "      <td>outpatient</td>\n",
       "      <td>11-15</td>\n",
       "      <td>single</td>\n",
       "      <td>unemployed/sick/pension</td>\n",
       "      <td>26.0</td>\n",
       "      <td>26.0</td>\n",
       "      <td>267.576</td>\n",
       "      <td>340.471</td>\n",
       "    </tr>\n",
       "    <tr>\n",
       "      <th>21</th>\n",
       "      <td>16</td>\n",
       "      <td>female</td>\n",
       "      <td>30-34</td>\n",
       "      <td>no melancholia</td>\n",
       "      <td>inpatient</td>\n",
       "      <td>16-20</td>\n",
       "      <td>single</td>\n",
       "      <td>unemployed/sick/pension</td>\n",
       "      <td>29.0</td>\n",
       "      <td>23.0</td>\n",
       "      <td>440.540</td>\n",
       "      <td>415.779</td>\n",
       "    </tr>\n",
       "    <tr>\n",
       "      <th>12</th>\n",
       "      <td>14</td>\n",
       "      <td>male</td>\n",
       "      <td>35-39</td>\n",
       "      <td>no melancholia</td>\n",
       "      <td>outpatient</td>\n",
       "      <td>11-15</td>\n",
       "      <td>single</td>\n",
       "      <td>unemployed/sick/pension</td>\n",
       "      <td>18.0</td>\n",
       "      <td>13.0</td>\n",
       "      <td>390.093</td>\n",
       "      <td>383.131</td>\n",
       "    </tr>\n",
       "    <tr>\n",
       "      <th>15</th>\n",
       "      <td>16</td>\n",
       "      <td>female</td>\n",
       "      <td>45-49</td>\n",
       "      <td>no melancholia</td>\n",
       "      <td>outpatient</td>\n",
       "      <td>11-15</td>\n",
       "      <td>married/cohabiting</td>\n",
       "      <td>unemployed/sick/pension</td>\n",
       "      <td>13.0</td>\n",
       "      <td>17.0</td>\n",
       "      <td>338.069</td>\n",
       "      <td>424.913</td>\n",
       "    </tr>\n",
       "    <tr>\n",
       "      <th>17</th>\n",
       "      <td>13</td>\n",
       "      <td>male</td>\n",
       "      <td>50-54</td>\n",
       "      <td>no melancholia</td>\n",
       "      <td>inpatient</td>\n",
       "      <td>16-20</td>\n",
       "      <td>single</td>\n",
       "      <td>unemployed/sick/pension</td>\n",
       "      <td>26.0</td>\n",
       "      <td>21.0</td>\n",
       "      <td>269.876</td>\n",
       "      <td>333.094</td>\n",
       "    </tr>\n",
       "    <tr>\n",
       "      <th>0</th>\n",
       "      <td>11</td>\n",
       "      <td>male</td>\n",
       "      <td>35-39</td>\n",
       "      <td>no melancholia</td>\n",
       "      <td>outpatient</td>\n",
       "      <td>6-10</td>\n",
       "      <td>married/cohabiting</td>\n",
       "      <td>unemployed/sick/pension</td>\n",
       "      <td>19.0</td>\n",
       "      <td>19.0</td>\n",
       "      <td>276.751</td>\n",
       "      <td>357.105</td>\n",
       "    </tr>\n",
       "    <tr>\n",
       "      <th>5</th>\n",
       "      <td>7</td>\n",
       "      <td>female</td>\n",
       "      <td>35-39</td>\n",
       "      <td>no melancholia</td>\n",
       "      <td>outpatient</td>\n",
       "      <td>6-10</td>\n",
       "      <td>married/cohabiting</td>\n",
       "      <td>unemployed/sick/pension</td>\n",
       "      <td>18.0</td>\n",
       "      <td>15.0</td>\n",
       "      <td>361.821</td>\n",
       "      <td>382.775</td>\n",
       "    </tr>\n",
       "    <tr>\n",
       "      <th>7</th>\n",
       "      <td>5</td>\n",
       "      <td>male</td>\n",
       "      <td>25-29</td>\n",
       "      <td>no data</td>\n",
       "      <td>outpatient</td>\n",
       "      <td>11-15</td>\n",
       "      <td>married/cohabiting</td>\n",
       "      <td>unemployed/sick/pension</td>\n",
       "      <td>20.0</td>\n",
       "      <td>16.0</td>\n",
       "      <td>316.545</td>\n",
       "      <td>503.483</td>\n",
       "    </tr>\n",
       "    <tr>\n",
       "      <th>11</th>\n",
       "      <td>12</td>\n",
       "      <td>male</td>\n",
       "      <td>40-44</td>\n",
       "      <td>no melancholia</td>\n",
       "      <td>outpatient</td>\n",
       "      <td>6-10</td>\n",
       "      <td>single</td>\n",
       "      <td>unemployed/sick/pension</td>\n",
       "      <td>25.0</td>\n",
       "      <td>21.0</td>\n",
       "      <td>276.281</td>\n",
       "      <td>320.105</td>\n",
       "    </tr>\n",
       "    <tr>\n",
       "      <th>16</th>\n",
       "      <td>13</td>\n",
       "      <td>female</td>\n",
       "      <td>50-54</td>\n",
       "      <td>no melancholia</td>\n",
       "      <td>outpatient</td>\n",
       "      <td>6-10</td>\n",
       "      <td>married/cohabiting</td>\n",
       "      <td>unemployed/sick/pension</td>\n",
       "      <td>17.0</td>\n",
       "      <td>15.0</td>\n",
       "      <td>147.850</td>\n",
       "      <td>211.517</td>\n",
       "    </tr>\n",
       "  </tbody>\n",
       "</table>\n",
       "</div>"
      ],
      "text/plain": [
       "    days  gender    age         melanch   inpatient    edu  \\\n",
       "20    14  female  65-69  no melancholia   inpatient      0   \n",
       "13    14  female  60-64  no melancholia  outpatient   6-10   \n",
       "1     18    male  40-44  no melancholia  outpatient   6-10   \n",
       "2     13  female  45-49  no melancholia  outpatient   6-10   \n",
       "3     13    male  25-29  no melancholia  outpatient  11-15   \n",
       "4     13    male  50-54  no melancholia  outpatient  11-15   \n",
       "21    16  female  30-34  no melancholia   inpatient  16-20   \n",
       "12    14    male  35-39  no melancholia  outpatient  11-15   \n",
       "15    16  female  45-49  no melancholia  outpatient  11-15   \n",
       "17    13    male  50-54  no melancholia   inpatient  16-20   \n",
       "0     11    male  35-39  no melancholia  outpatient   6-10   \n",
       "5      7  female  35-39  no melancholia  outpatient   6-10   \n",
       "7      5    male  25-29         no data  outpatient  11-15   \n",
       "11    12    male  40-44  no melancholia  outpatient   6-10   \n",
       "16    13  female  50-54  no melancholia  outpatient   6-10   \n",
       "\n",
       "              marriage                     work  madrs1  madrs2  \\\n",
       "20              single  unemployed/sick/pension    29.0    28.0   \n",
       "13              single  unemployed/sick/pension    28.0    19.0   \n",
       "1               single  unemployed/sick/pension    24.0    11.0   \n",
       "2               single  unemployed/sick/pension    24.0    25.0   \n",
       "3   married/cohabiting         working/studying    20.0    16.0   \n",
       "4               single  unemployed/sick/pension    26.0    26.0   \n",
       "21              single  unemployed/sick/pension    29.0    23.0   \n",
       "12              single  unemployed/sick/pension    18.0    13.0   \n",
       "15  married/cohabiting  unemployed/sick/pension    13.0    17.0   \n",
       "17              single  unemployed/sick/pension    26.0    21.0   \n",
       "0   married/cohabiting  unemployed/sick/pension    19.0    19.0   \n",
       "5   married/cohabiting  unemployed/sick/pension    18.0    15.0   \n",
       "7   married/cohabiting  unemployed/sick/pension    20.0    16.0   \n",
       "11              single  unemployed/sick/pension    25.0    21.0   \n",
       "16  married/cohabiting  unemployed/sick/pension    17.0    15.0   \n",
       "\n",
       "    activity_mean  activity_std  \n",
       "20        287.349       279.429  \n",
       "13        205.845       262.523  \n",
       "1         153.673       330.808  \n",
       "2         265.300       399.881  \n",
       "3         451.672       497.075  \n",
       "4         267.576       340.471  \n",
       "21        440.540       415.779  \n",
       "12        390.093       383.131  \n",
       "15        338.069       424.913  \n",
       "17        269.876       333.094  \n",
       "0         276.751       357.105  \n",
       "5         361.821       382.775  \n",
       "7         316.545       503.483  \n",
       "11        276.281       320.105  \n",
       "16        147.850       211.517  "
      ]
     },
     "execution_count": 192,
     "metadata": {},
     "output_type": "execute_result"
    }
   ],
   "source": [
    "x_train\n"
   ]
  },
  {
   "cell_type": "markdown",
   "metadata": {
    "id": "pvejXjbB_xig"
   },
   "source": [
    "### Model Training\n",
    "\n",
    "\n"
   ]
  },
  {
   "cell_type": "code",
   "execution_count": 193,
   "metadata": {},
   "outputs": [],
   "source": [
    "from sklearn.compose import ColumnTransformer\n",
    "from sklearn.pipeline import Pipeline\n",
    "from sklearn.preprocessing import OneHotEncoder\n",
    "from sklearn.ensemble import RandomForestClassifier"
   ]
  },
  {
   "cell_type": "code",
   "execution_count": 194,
   "metadata": {},
   "outputs": [],
   "source": [
    "categoric_features = [\n",
    "    'gender', \n",
    "    'work', \n",
    "    'marriage',\n",
    "    'melanch',\n",
    "    'inpatient',\n",
    "    \"age\",\n",
    "    \"edu\"\n",
    "]\n",
    "numeric_features = set(features.columns)-set(categoric_features)"
   ]
  },
  {
   "cell_type": "markdown",
   "metadata": {},
   "source": [
    "**Since the dataset is small, we need to precise to the categorical encoder the different categories of each categorical feature**"
   ]
  },
  {
   "cell_type": "code",
   "execution_count": 195,
   "metadata": {},
   "outputs": [],
   "source": [
    "cat_types = []\n",
    "for cat in categoric_features:\n",
    "    cat_i = list(features[cat].unique())\n",
    "    cat_types.append(cat_i)"
   ]
  },
  {
   "cell_type": "code",
   "execution_count": 196,
   "metadata": {},
   "outputs": [],
   "source": [
    "categorical_transformer = Pipeline(steps=[('onehot', OneHotEncoder(categories=cat_types))])\n",
    "preprocessor = ColumnTransformer(transformers=[('categorical', categorical_transformer, categoric_features)])\n"
   ]
  },
  {
   "cell_type": "code",
   "execution_count": 197,
   "metadata": {},
   "outputs": [],
   "source": [
    "params_rf = {\n",
    "    \"n_estimators\": 50,\n",
    "    \"max_depth\": 8, \n",
    "}\n",
    "rf = RandomForestClassifier(**params_rf)"
   ]
  },
  {
   "cell_type": "code",
   "execution_count": 198,
   "metadata": {
    "tags": []
   },
   "outputs": [],
   "source": [
    "#Model object: takes original data, processes it and applies the random forest\n",
    "clf_rf = Pipeline(steps=[\n",
    "                      ('preprocessor', preprocessor),\n",
    "                      ('classifier', rf)\n",
    "])\n",
    "model = clf_rf.fit(x_train , y_train)"
   ]
  },
  {
   "cell_type": "code",
   "execution_count": 199,
   "metadata": {
    "id": "77qvrh9C_83G",
    "tags": []
   },
   "outputs": [
    {
     "data": {
      "text/plain": [
       "Text(0.5, 1.0, 'Confusion Matrix (Train set)')"
      ]
     },
     "execution_count": 199,
     "metadata": {},
     "output_type": "execute_result"
    },
    {
     "data": {
      "image/png": "[encoded data removed]",
      "text/plain": [
       "<Figure size 1152x576 with 4 Axes>"
      ]
     },
     "metadata": {},
     "output_type": "display_data"
    }
   ],
   "source": [
    "y_hat = clf_rf.predict(x_test)\n",
    "cf = metrics.confusion_matrix(y_pred=y_hat, y_true=y_test)\n",
    "cf_train = metrics.confusion_matrix(y_pred=clf_rf.predict(x_train), y_true=y_train)\n",
    "names_df = [\n",
    "    \"Unipolar Disease\",\n",
    "    \"Bipolar II\"\n",
    "]\n",
    "cf_df = pd.DataFrame(data=cf, columns=names_df, index=names_df)\n",
    "cf_train_df = pd.DataFrame(data=cf_train, columns=names_df, index=names_df)\n",
    "fig, ax = plt.subplots(ncols=2, figsize=(16,8))\n",
    "\n",
    "sns.heatmap(cf_df, fmt=\"d\",annot=True, ax=ax[0])\n",
    "ax[0].set_xlabel(\"Model Prediction\", size=16)\n",
    "ax[0].set_ylabel(\"Real Value\", size=16)\n",
    "ax[0].set_title(\"Confusion Matrix (Test set)\", size=20)\n",
    "\n",
    "sns.heatmap(cf_train_df, fmt=\"d\",annot=True, ax=ax[1])\n",
    "ax[1].set_xlabel(\"Model Prediction\", size=16)\n",
    "ax[1].set_ylabel(\"Real Value\", size=16)\n",
    "ax[1].set_title(\"Confusion Matrix (Train set)\", size=20)"
   ]
  },
  {
   "cell_type": "markdown",
   "metadata": {
    "id": "U1ligznoAoNH"
   },
   "source": [
    "### DiCE "
   ]
  },
  {
   "cell_type": "code",
   "execution_count": 200,
   "metadata": {
    "id": "cYKO_jmGAsnN"
   },
   "outputs": [],
   "source": [
    "#Loading the dice module\n",
    "import dice_ml\n",
    "from dice_ml.utils import helpers \n",
    "import json  "
   ]
  },
  {
   "cell_type": "code",
   "execution_count": 201,
   "metadata": {
    "id": "dgt2BjC-Atzg"
   },
   "outputs": [],
   "source": [
    "#DiCE data object\n",
    "X = pd.concat([features, target], axis=1)\n",
    "#{1.0: \"Bipolar II\", 0.0: \"Unipolar Depressive\"}\n",
    "data = dice_ml.Data(dataframe=X, continuous_features=list(numeric_features), outcome_name='afftype')\n",
    "#DiCE model object\n",
    "model_exp = dice_ml.Model(model=model, backend='sklearn')\n",
    "#Creates the explanations \n",
    "exp = dice_ml.Dice(data, model_exp, method=\"random\")"
   ]
  },
  {
   "cell_type": "code",
   "execution_count": 205,
   "metadata": {
    "colab": {
     "base_uri": "https://localhost:8080/",
     "height": 262
    },
    "id": "cCuhDFYOA16b",
    "outputId": "7223dda3-fdd4-45fe-8a10-510706cbb5c5"
   },
   "outputs": [
    {
     "name": "stderr",
     "output_type": "stream",
     "text": [
      "100%|██████████| 1/1 [00:06<00:00,  6.45s/it]"
     ]
    },
    {
     "name": "stdout",
     "output_type": "stream",
     "text": [
      "Query instance (original outcome : 0)\n"
     ]
    },
    {
     "name": "stderr",
     "output_type": "stream",
     "text": [
      "\n"
     ]
    },
    {
     "data": {
      "text/html": [
       "<div>\n",
       "<style scoped>\n",
       "    .dataframe tbody tr th:only-of-type {\n",
       "        vertical-align: middle;\n",
       "    }\n",
       "\n",
       "    .dataframe tbody tr th {\n",
       "        vertical-align: top;\n",
       "    }\n",
       "\n",
       "    .dataframe thead th {\n",
       "        text-align: right;\n",
       "    }\n",
       "</style>\n",
       "<table border=\"1\" class=\"dataframe\">\n",
       "  <thead>\n",
       "    <tr style=\"text-align: right;\">\n",
       "      <th></th>\n",
       "      <th>days</th>\n",
       "      <th>gender</th>\n",
       "      <th>age</th>\n",
       "      <th>melanch</th>\n",
       "      <th>inpatient</th>\n",
       "      <th>edu</th>\n",
       "      <th>marriage</th>\n",
       "      <th>work</th>\n",
       "      <th>madrs1</th>\n",
       "      <th>madrs2</th>\n",
       "      <th>activity_mean</th>\n",
       "      <th>activity_std</th>\n",
       "      <th>afftype</th>\n",
       "    </tr>\n",
       "  </thead>\n",
       "  <tbody>\n",
       "    <tr>\n",
       "      <th>0</th>\n",
       "      <td>13</td>\n",
       "      <td>female</td>\n",
       "      <td>45-49</td>\n",
       "      <td>no melancholia</td>\n",
       "      <td>outpatient</td>\n",
       "      <td>6-10</td>\n",
       "      <td>single</td>\n",
       "      <td>unemployed/sick/pension</td>\n",
       "      <td>24.0</td>\n",
       "      <td>25.0</td>\n",
       "      <td>265.3</td>\n",
       "      <td>399.881</td>\n",
       "      <td>0</td>\n",
       "    </tr>\n",
       "  </tbody>\n",
       "</table>\n",
       "</div>"
      ],
      "text/plain": [
       "   days  gender    age         melanch   inpatient   edu marriage  \\\n",
       "0    13  female  45-49  no melancholia  outpatient  6-10   single   \n",
       "\n",
       "                      work  madrs1  madrs2  activity_mean  activity_std  \\\n",
       "0  unemployed/sick/pension    24.0    25.0          265.3       399.881   \n",
       "\n",
       "   afftype  \n",
       "0        0  "
      ]
     },
     "metadata": {},
     "output_type": "display_data"
    },
    {
     "name": "stdout",
     "output_type": "stream",
     "text": [
      "\n",
      "Diverse Counterfactual set (new outcome: 1.0)\n"
     ]
    },
    {
     "data": {
      "text/html": [
       "<div>\n",
       "<style scoped>\n",
       "    .dataframe tbody tr th:only-of-type {\n",
       "        vertical-align: middle;\n",
       "    }\n",
       "\n",
       "    .dataframe tbody tr th {\n",
       "        vertical-align: top;\n",
       "    }\n",
       "\n",
       "    .dataframe thead th {\n",
       "        text-align: right;\n",
       "    }\n",
       "</style>\n",
       "<table border=\"1\" class=\"dataframe\">\n",
       "  <thead>\n",
       "    <tr style=\"text-align: right;\">\n",
       "      <th></th>\n",
       "      <th>days</th>\n",
       "      <th>gender</th>\n",
       "      <th>age</th>\n",
       "      <th>melanch</th>\n",
       "      <th>inpatient</th>\n",
       "      <th>edu</th>\n",
       "      <th>marriage</th>\n",
       "      <th>work</th>\n",
       "      <th>madrs1</th>\n",
       "      <th>madrs2</th>\n",
       "      <th>activity_mean</th>\n",
       "      <th>activity_std</th>\n",
       "      <th>afftype</th>\n",
       "    </tr>\n",
       "  </thead>\n",
       "  <tbody>\n",
       "    <tr>\n",
       "      <th>0</th>\n",
       "      <td>-</td>\n",
       "      <td>-</td>\n",
       "      <td>50-54</td>\n",
       "      <td>-</td>\n",
       "      <td>-</td>\n",
       "      <td>-</td>\n",
       "      <td>married/cohabiting</td>\n",
       "      <td>-</td>\n",
       "      <td>-</td>\n",
       "      <td>-</td>\n",
       "      <td>266.00099999998343</td>\n",
       "      <td>400.00099999999713</td>\n",
       "      <td>1</td>\n",
       "    </tr>\n",
       "    <tr>\n",
       "      <th>1</th>\n",
       "      <td>-</td>\n",
       "      <td>-</td>\n",
       "      <td>40-44</td>\n",
       "      <td>-</td>\n",
       "      <td>-</td>\n",
       "      <td>-</td>\n",
       "      <td>-</td>\n",
       "      <td>-</td>\n",
       "      <td>-</td>\n",
       "      <td>-</td>\n",
       "      <td>266.00099999998343</td>\n",
       "      <td>400.00099999999713</td>\n",
       "      <td>1</td>\n",
       "    </tr>\n",
       "  </tbody>\n",
       "</table>\n",
       "</div>"
      ],
      "text/plain": [
       "  days gender    age melanch inpatient edu            marriage work madrs1  \\\n",
       "0    -      -  50-54       -         -   -  married/cohabiting    -      -   \n",
       "1    -      -  40-44       -         -   -                   -    -      -   \n",
       "\n",
       "  madrs2       activity_mean        activity_std afftype  \n",
       "0      -  266.00099999998343  400.00099999999713       1  \n",
       "1      -  266.00099999998343  400.00099999999713       1  "
      ]
     },
     "metadata": {},
     "output_type": "display_data"
    }
   ],
   "source": [
    "#We take an example of our training set \n",
    "#We set the number of counterfactual explanations to 2. \n",
    "patient_index = 2\n",
    "features_to_vary = [\n",
    "    \"marriage\",\n",
    "    #\"days\",\n",
    "    #\"melanch\",\n",
    "    #\"inpatient\",\n",
    "    \"work\",\n",
    "    \"edu\",\n",
    "    \"age\"\n",
    "]\n",
    "e1 = exp.generate_counterfactuals(features[patient_index:patient_index+1], \n",
    "                                  total_CFs=2, \n",
    "                                  desired_class=\"opposite\",\n",
    "                                 random_seed=3434,\n",
    "                                 features_to_vary=features_to_vary)\n",
    "#Show counterfactual explanations\n",
    "e1.visualize_as_dataframe(show_only_changes=True)"
   ]
  },
  {
   "cell_type": "markdown",
   "metadata": {},
   "source": [
    "**The previous code can be modified in order to change the patient. The counterfactual example is displayed using a dataframe in which we find the features to vary, according to the bipolar disease predictive model, in order to change the output of the model. For the Patient *2*, the output of the model is that there is no bipolar disease. However, if the patient were a worker/student and the activty features were slighlty higher, then the model would have predicted a Bipolar II**"
   ]
  },
  {
   "cell_type": "code",
   "execution_count": null,
   "metadata": {},
   "outputs": [],
   "source": []
  }
 ],
 "metadata": {
  "colab": {
   "name": "XAI Tutorial: DIverse Counterfactual Explanations (DICE).ipynb",
   "provenance": [],
   "toc_visible": true
  },
  "kernelspec": {
   "display_name": "Python 3",
   "language": "python",
   "name": "python3"
  },
  "language_info": {
   "codemirror_mode": {
    "name": "ipython",
    "version": 3
   },
   "file_extension": ".py",
   "mimetype": "text/x-python",
   "name": "python",
   "nbconvert_exporter": "python",
   "pygments_lexer": "ipython3",
   "version": "3.8.8"
  }
 },
 "nbformat": 4,
 "nbformat_minor": 4
}
